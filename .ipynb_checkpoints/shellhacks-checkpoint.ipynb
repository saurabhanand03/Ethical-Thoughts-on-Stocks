{
 "cells": [
  {
   "cell_type": "code",
   "execution_count": 6,
   "metadata": {
    "id": "aLjupI8OWl9I"
   },
   "outputs": [],
   "source": [
    "import yfinance as yf\n",
    "import pandas as pd\n",
    "from datetime import date\n",
    "from sklearn.ensemble import RandomForestRegressor\n",
    "from sklearn.model_selection import train_test_split\n",
    "from sklearn.pipeline import Pipeline\n",
    "from sklearn.metrics import mean_squared_error, r2_score\n",
    "import numpy as np"
   ]
  },
  {
   "cell_type": "code",
   "execution_count": 7,
   "metadata": {
    "id": "qOVdkGrizeRt"
   },
   "outputs": [],
   "source": [
    "# top 10 holdings from VanEck Retail ETF\n",
    "holdings = ['AMZN', 'COST', 'WMT', 'HD', 'LOW', 'TJX', 'ORLY', 'MCK', 'CVS', 'TGT']"
   ]
  },
  {
   "cell_type": "code",
   "execution_count": 8,
   "metadata": {
    "colab": {
     "base_uri": "https://localhost:8080/"
    },
    "id": "i7wupCDvzfvd",
    "outputId": "43427bd0-a9a4-4855-8b36-b56cdddadf86"
   },
   "outputs": [
    {
     "name": "stderr",
     "output_type": "stream",
     "text": [
      "[*********************100%***********************]  1 of 1 completed\n",
      "[*********************100%***********************]  1 of 1 completed\n",
      "[*********************100%***********************]  1 of 1 completed\n",
      "[*********************100%***********************]  1 of 1 completed\n",
      "[*********************100%***********************]  1 of 1 completed\n",
      "[*********************100%***********************]  1 of 1 completed\n",
      "[*********************100%***********************]  1 of 1 completed\n",
      "[*********************100%***********************]  1 of 1 completed\n",
      "[*********************100%***********************]  1 of 1 completed\n",
      "[*********************100%***********************]  1 of 1 completed\n"
     ]
    }
   ],
   "source": [
    "# use data for training and testing the model (80/20)\n",
    "START = \"2000-01-01\"\n",
    "TODAY = date.today().strftime(\"%Y-%m-%d\")\n",
    "stock_data = []\n",
    "for ticker in holdings:\n",
    "    data = yf.download(ticker, START, TODAY)\n",
    "    data.reset_index(inplace=True)\n",
    "    data['Ticker'] = ticker\n",
    "    stock_data.append(data)\n",
    "stock_df = pd.concat(stock_data, axis=0, ignore_index=True)"
   ]
  },
  {
   "cell_type": "code",
   "execution_count": 9,
   "metadata": {
    "colab": {
     "base_uri": "https://localhost:8080/",
     "height": 424
    },
    "id": "vvk6UYvbzkDy",
    "outputId": "4f642eb7-17ab-4cb1-e47b-6a4901699955"
   },
   "outputs": [
    {
     "data": {
      "text/html": [
       "<div>\n",
       "<style scoped>\n",
       "    .dataframe tbody tr th:only-of-type {\n",
       "        vertical-align: middle;\n",
       "    }\n",
       "\n",
       "    .dataframe tbody tr th {\n",
       "        vertical-align: top;\n",
       "    }\n",
       "\n",
       "    .dataframe thead th {\n",
       "        text-align: right;\n",
       "    }\n",
       "</style>\n",
       "<table border=\"1\" class=\"dataframe\">\n",
       "  <thead>\n",
       "    <tr style=\"text-align: right;\">\n",
       "      <th></th>\n",
       "      <th>Date</th>\n",
       "      <th>Open</th>\n",
       "      <th>High</th>\n",
       "      <th>Low</th>\n",
       "      <th>Close</th>\n",
       "      <th>Adj Close</th>\n",
       "      <th>Volume</th>\n",
       "      <th>Ticker</th>\n",
       "    </tr>\n",
       "  </thead>\n",
       "  <tbody>\n",
       "    <tr>\n",
       "      <th>0</th>\n",
       "      <td>2000-01-03</td>\n",
       "      <td>4.075000</td>\n",
       "      <td>4.478125</td>\n",
       "      <td>3.952344</td>\n",
       "      <td>4.468750</td>\n",
       "      <td>4.468750</td>\n",
       "      <td>322352000</td>\n",
       "      <td>AMZN</td>\n",
       "    </tr>\n",
       "    <tr>\n",
       "      <th>1</th>\n",
       "      <td>2000-01-04</td>\n",
       "      <td>4.268750</td>\n",
       "      <td>4.575000</td>\n",
       "      <td>4.087500</td>\n",
       "      <td>4.096875</td>\n",
       "      <td>4.096875</td>\n",
       "      <td>349748000</td>\n",
       "      <td>AMZN</td>\n",
       "    </tr>\n",
       "    <tr>\n",
       "      <th>2</th>\n",
       "      <td>2000-01-05</td>\n",
       "      <td>3.525000</td>\n",
       "      <td>3.756250</td>\n",
       "      <td>3.400000</td>\n",
       "      <td>3.487500</td>\n",
       "      <td>3.487500</td>\n",
       "      <td>769148000</td>\n",
       "      <td>AMZN</td>\n",
       "    </tr>\n",
       "    <tr>\n",
       "      <th>3</th>\n",
       "      <td>2000-01-06</td>\n",
       "      <td>3.565625</td>\n",
       "      <td>3.634375</td>\n",
       "      <td>3.200000</td>\n",
       "      <td>3.278125</td>\n",
       "      <td>3.278125</td>\n",
       "      <td>375040000</td>\n",
       "      <td>AMZN</td>\n",
       "    </tr>\n",
       "    <tr>\n",
       "      <th>4</th>\n",
       "      <td>2000-01-07</td>\n",
       "      <td>3.350000</td>\n",
       "      <td>3.525000</td>\n",
       "      <td>3.309375</td>\n",
       "      <td>3.478125</td>\n",
       "      <td>3.478125</td>\n",
       "      <td>210108000</td>\n",
       "      <td>AMZN</td>\n",
       "    </tr>\n",
       "    <tr>\n",
       "      <th>...</th>\n",
       "      <td>...</td>\n",
       "      <td>...</td>\n",
       "      <td>...</td>\n",
       "      <td>...</td>\n",
       "      <td>...</td>\n",
       "      <td>...</td>\n",
       "      <td>...</td>\n",
       "      <td>...</td>\n",
       "    </tr>\n",
       "    <tr>\n",
       "      <th>62235</th>\n",
       "      <td>2024-09-23</td>\n",
       "      <td>154.770004</td>\n",
       "      <td>155.740005</td>\n",
       "      <td>152.910004</td>\n",
       "      <td>155.289993</td>\n",
       "      <td>155.289993</td>\n",
       "      <td>2927700</td>\n",
       "      <td>TGT</td>\n",
       "    </tr>\n",
       "    <tr>\n",
       "      <th>62236</th>\n",
       "      <td>2024-09-24</td>\n",
       "      <td>155.899994</td>\n",
       "      <td>157.830002</td>\n",
       "      <td>155.500000</td>\n",
       "      <td>156.179993</td>\n",
       "      <td>156.179993</td>\n",
       "      <td>3114000</td>\n",
       "      <td>TGT</td>\n",
       "    </tr>\n",
       "    <tr>\n",
       "      <th>62237</th>\n",
       "      <td>2024-09-25</td>\n",
       "      <td>156.289993</td>\n",
       "      <td>156.919998</td>\n",
       "      <td>154.160004</td>\n",
       "      <td>155.070007</td>\n",
       "      <td>155.070007</td>\n",
       "      <td>2319900</td>\n",
       "      <td>TGT</td>\n",
       "    </tr>\n",
       "    <tr>\n",
       "      <th>62238</th>\n",
       "      <td>2024-09-26</td>\n",
       "      <td>156.529999</td>\n",
       "      <td>157.740005</td>\n",
       "      <td>155.119995</td>\n",
       "      <td>155.979996</td>\n",
       "      <td>155.979996</td>\n",
       "      <td>2757900</td>\n",
       "      <td>TGT</td>\n",
       "    </tr>\n",
       "    <tr>\n",
       "      <th>62239</th>\n",
       "      <td>2024-09-27</td>\n",
       "      <td>156.500000</td>\n",
       "      <td>157.509995</td>\n",
       "      <td>154.779999</td>\n",
       "      <td>155.179993</td>\n",
       "      <td>155.179993</td>\n",
       "      <td>3067200</td>\n",
       "      <td>TGT</td>\n",
       "    </tr>\n",
       "  </tbody>\n",
       "</table>\n",
       "<p>62240 rows × 8 columns</p>\n",
       "</div>"
      ],
      "text/plain": [
       "            Date        Open        High         Low       Close   Adj Close  \\\n",
       "0     2000-01-03    4.075000    4.478125    3.952344    4.468750    4.468750   \n",
       "1     2000-01-04    4.268750    4.575000    4.087500    4.096875    4.096875   \n",
       "2     2000-01-05    3.525000    3.756250    3.400000    3.487500    3.487500   \n",
       "3     2000-01-06    3.565625    3.634375    3.200000    3.278125    3.278125   \n",
       "4     2000-01-07    3.350000    3.525000    3.309375    3.478125    3.478125   \n",
       "...          ...         ...         ...         ...         ...         ...   \n",
       "62235 2024-09-23  154.770004  155.740005  152.910004  155.289993  155.289993   \n",
       "62236 2024-09-24  155.899994  157.830002  155.500000  156.179993  156.179993   \n",
       "62237 2024-09-25  156.289993  156.919998  154.160004  155.070007  155.070007   \n",
       "62238 2024-09-26  156.529999  157.740005  155.119995  155.979996  155.979996   \n",
       "62239 2024-09-27  156.500000  157.509995  154.779999  155.179993  155.179993   \n",
       "\n",
       "          Volume Ticker  \n",
       "0      322352000   AMZN  \n",
       "1      349748000   AMZN  \n",
       "2      769148000   AMZN  \n",
       "3      375040000   AMZN  \n",
       "4      210108000   AMZN  \n",
       "...          ...    ...  \n",
       "62235    2927700    TGT  \n",
       "62236    3114000    TGT  \n",
       "62237    2319900    TGT  \n",
       "62238    2757900    TGT  \n",
       "62239    3067200    TGT  \n",
       "\n",
       "[62240 rows x 8 columns]"
      ]
     },
     "execution_count": 9,
     "metadata": {},
     "output_type": "execute_result"
    }
   ],
   "source": [
    "stock_df"
   ]
  },
  {
   "cell_type": "code",
   "execution_count": 10,
   "metadata": {
    "id": "ol_zylxYzovS"
   },
   "outputs": [],
   "source": [
    "# run a random forest on each ticker using 80% of data for training and 20% of data for testing\n",
    "def train(df,ticker):\n",
    "    ticker_df = df[df['Ticker'] == ticker]\n",
    "    X = ticker_df[['Open', 'High', 'Low', 'Volume']]\n",
    "    y = ticker_df['Adj Close']  # adjusted closing price\n",
    "    X_train, X_test, y_train, y_test = train_test_split(X, y, test_size=0.2, random_state=42)\n",
    "    rf = RandomForestRegressor(n_estimators=100,\n",
    "                               max_depth = 10,\n",
    "                               random_state=42)\n",
    "    rf.fit(X_train, y_train)\n",
    "    model = rf.predict(X_test)\n",
    "    return y_test, model"
   ]
  },
  {
   "cell_type": "code",
   "execution_count": 11,
   "metadata": {
    "id": "rV9SMXWzQ6fS"
   },
   "outputs": [],
   "source": [
    "demo_test, demo_model = train(stock_df, holdings[5])"
   ]
  },
  {
   "cell_type": "code",
   "execution_count": null,
   "metadata": {},
   "outputs": [],
   "source": []
  },
  {
   "cell_type": "code",
   "execution_count": null,
   "metadata": {},
   "outputs": [],
   "source": []
  }
 ],
 "metadata": {
  "colab": {
   "provenance": []
  },
  "kernelspec": {
   "display_name": "Python 3 (ipykernel)",
   "language": "python",
   "name": "python3"
  },
  "language_info": {
   "codemirror_mode": {
    "name": "ipython",
    "version": 3
   },
   "file_extension": ".py",
   "mimetype": "text/x-python",
   "name": "python",
   "nbconvert_exporter": "python",
   "pygments_lexer": "ipython3",
   "version": "3.11.5"
  }
 },
 "nbformat": 4,
 "nbformat_minor": 1
}
